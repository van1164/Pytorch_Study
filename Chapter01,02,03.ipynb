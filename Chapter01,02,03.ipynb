{
  "nbformat": 4,
  "nbformat_minor": 0,
  "metadata": {
    "colab": {
      "provenance": [],
      "authorship_tag": "ABX9TyMbtNLGdGzIip4K1TeeDRnz",
      "include_colab_link": true
    },
    "kernelspec": {
      "name": "python3",
      "display_name": "Python 3"
    },
    "language_info": {
      "name": "python"
    },
    "accelerator": "GPU",
    "gpuClass": "standard"
  },
  "cells": [
    {
      "cell_type": "markdown",
      "metadata": {
        "id": "view-in-github",
        "colab_type": "text"
      },
      "source": [
        "<a href=\"https://colab.research.google.com/github/van1164/Pytorch_Study/blob/main/Chapter01%2C02%2C03.ipynb\" target=\"_parent\"><img src=\"https://colab.research.google.com/assets/colab-badge.svg\" alt=\"Open In Colab\"/></a>"
      ]
    },
    {
      "cell_type": "code",
      "execution_count": 2,
      "metadata": {
        "id": "Q3MKWuymFW2R"
      },
      "outputs": [],
      "source": [
        "import torch\n",
        "import numpy as np\n",
        "import matplotlib.pyplot as plt"
      ]
    },
    {
      "cell_type": "markdown",
      "source": [
        "1 또는 0 으로 가득 찬 행렬"
      ],
      "metadata": {
        "id": "Lsk0LkDNGeqa"
      }
    },
    {
      "cell_type": "code",
      "source": [
        "x = torch.ones(3,2)\n",
        "print(x)\n",
        "x = torch.zeros(3,2)\n",
        "print(x)"
      ],
      "metadata": {
        "colab": {
          "base_uri": "https://localhost:8080/"
        },
        "id": "WAVe1DExFbiY",
        "outputId": "f6418a27-d509-44cd-c4b7-49302ad6a822"
      },
      "execution_count": 5,
      "outputs": [
        {
          "output_type": "stream",
          "name": "stdout",
          "text": [
            "tensor([[1., 1.],\n",
            "        [1., 1.],\n",
            "        [1., 1.]])\n",
            "tensor([[0., 0.],\n",
            "        [0., 0.],\n",
            "        [0., 0.]])\n"
          ]
        }
      ]
    },
    {
      "cell_type": "code",
      "source": [
        "torch.manual_seed(2)\n",
        "x= torch.rand(3,2)\n",
        "print(x)\n",
        "\n",
        "x= torch.randn(3,3)\n",
        "print(x)"
      ],
      "metadata": {
        "colab": {
          "base_uri": "https://localhost:8080/"
        },
        "id": "pjnCU4RQF2ZA",
        "outputId": "cad2821b-ba7b-49a8-cccf-72134cb669c2"
      },
      "execution_count": 7,
      "outputs": [
        {
          "output_type": "stream",
          "name": "stdout",
          "text": [
            "tensor([[0.6147, 0.3810],\n",
            "        [0.6371, 0.4745],\n",
            "        [0.7136, 0.6190]])\n",
            "tensor([[-2.1409, -0.5534, -0.5000],\n",
            "        [-0.0815, -0.1633,  1.5277],\n",
            "        [-0.4023,  0.0972, -0.5682]])\n"
          ]
        }
      ]
    },
    {
      "cell_type": "code",
      "source": [
        "x= torch.tensor([[1,2],[3,4],[5,6]])\n",
        "print(x[:,1])# 1번쨰 열에서 전체가져와\n",
        "print(x[0,:]) # 0번째 행에서 전체가져와\n",
        "y=x[1,1] # [1][1]번째 가져와\n",
        "print(y)"
      ],
      "metadata": {
        "colab": {
          "base_uri": "https://localhost:8080/"
        },
        "id": "zzqKfU23G89t",
        "outputId": "bf355a39-2434-4eaa-b0f1-0b212c51ac39"
      },
      "execution_count": 9,
      "outputs": [
        {
          "output_type": "stream",
          "name": "stdout",
          "text": [
            "tensor([2, 4, 6])\n",
            "tensor([1, 2])\n",
            "tensor(4)\n"
          ]
        }
      ]
    },
    {
      "cell_type": "code",
      "source": [
        "x= torch.tensor([[1,2],[3,4],[5,6]])\n",
        "y=x.view(2,3)\n",
        "print(y)\n",
        "y = x.view(6,-1)\n",
        "print(y)"
      ],
      "metadata": {
        "colab": {
          "base_uri": "https://localhost:8080/"
        },
        "id": "R5GGddB9HmCv",
        "outputId": "c94fa00b-72d9-47cb-9be3-68fbf9d1e2f8"
      },
      "execution_count": 11,
      "outputs": [
        {
          "output_type": "stream",
          "name": "stdout",
          "text": [
            "tensor([[1, 2, 3],\n",
            "        [4, 5, 6]])\n",
            "tensor([[1],\n",
            "        [2],\n",
            "        [3],\n",
            "        [4],\n",
            "        [5],\n",
            "        [6]])\n"
          ]
        }
      ]
    },
    {
      "cell_type": "code",
      "source": [
        "x=torch.ones([3,2])\n",
        "y = torch.ones([3,2])\n",
        "\n",
        "z =x+y\n",
        "z=torch.add(x,y)\n",
        "print(z)\n",
        "z=x-y\n",
        "z= torch.sub(x,y)\n",
        "print(z)\n",
        "\n",
        "\n",
        "y.add_(x) # 중요!! 이렇게 y에 바로 더하는게 속도를 줄이는데 좋을 수 있음.\n",
        "print(y)"
      ],
      "metadata": {
        "colab": {
          "base_uri": "https://localhost:8080/"
        },
        "id": "HtvE17veISlA",
        "outputId": "a1886fd3-b376-4815-ea89-2a3be61a12fe"
      },
      "execution_count": 14,
      "outputs": [
        {
          "output_type": "stream",
          "name": "stdout",
          "text": [
            "tensor([[2., 2.],\n",
            "        [2., 2.],\n",
            "        [2., 2.]])\n",
            "tensor([[0., 0.],\n",
            "        [0., 0.],\n",
            "        [0., 0.]])\n",
            "tensor([[2., 2.],\n",
            "        [2., 2.],\n",
            "        [2., 2.]])\n"
          ]
        }
      ]
    },
    {
      "cell_type": "code",
      "source": [
        "print(torch.cuda.get_device_name(0))"
      ],
      "metadata": {
        "colab": {
          "base_uri": "https://localhost:8080/"
        },
        "id": "oyVf8ojsI1de",
        "outputId": "40ba0ce0-c271-4f0f-df05-7e84f1f61344"
      },
      "execution_count": 3,
      "outputs": [
        {
          "output_type": "stream",
          "name": "stdout",
          "text": [
            "Tesla T4\n"
          ]
        }
      ]
    },
    {
      "cell_type": "code",
      "source": [
        "x_data = [1,2,3]\n",
        "y_data = [2,4,6]\n",
        "plt.plot(x_data,y_data)\n",
        "plt.xlabel('hours')\n",
        "plt.ylabel('Points')\n",
        "plt.show()"
      ],
      "metadata": {
        "colab": {
          "base_uri": "https://localhost:8080/",
          "height": 449
        },
        "id": "4gh6vLXUKENA",
        "outputId": "947aabfc-1a97-4542-dd29-773e1555f32a"
      },
      "execution_count": 4,
      "outputs": [
        {
          "output_type": "display_data",
          "data": {
            "text/plain": [
              "<Figure size 640x480 with 1 Axes>"
            ],
            "image/png": "[encoded data removed]"
          },
          "metadata": {}
        }
      ]
    },
    {
      "cell_type": "code",
      "source": [
        "w = 1\n",
        "\n",
        "def forward(x):\n",
        "  return x*w\n",
        "\n",
        "def loss(x,y):\n",
        "  y_pred=forward(x)\n",
        "  return (y_pred - y)*(y_pred -y)\n",
        "\n",
        "\n",
        "w_list=[]\n",
        "mse_list = []\n",
        "for w in np.arange(0.0,4.1,0.1):\n",
        "  l_sum = 0\n",
        "  for x_val,y_val in zip(x_data,y_data):\n",
        "    y_pred_val = forward(x_val)\n",
        "    l=loss(x_val,y_val)\n",
        "    l_sum+=l\n",
        "  w_list.append(w)\n",
        "  mse_list.append(l_sum/3)\n",
        "plt.plot(w_list,mse_list)\n",
        "plt.ylabel('LOSS')\n",
        "plt.xlabel('w')\n",
        "plt.show()"
      ],
      "metadata": {
        "colab": {
          "base_uri": "https://localhost:8080/",
          "height": 449
        },
        "id": "wkZcnc7_M9SY",
        "outputId": "9044f8f6-fd9b-4422-bd12-751e8b200cfa"
      },
      "execution_count": 10,
      "outputs": [
        {
          "output_type": "display_data",
          "data": {
            "text/plain": [
              "<Figure size 640x480 with 1 Axes>"
            ],
            "image/png": "[encoded data removed]"
          },
          "metadata": {}
        }
      ]
    },
    {
      "cell_type": "code",
      "source": [
        "def gradient(x,y):\n",
        "  return 2*x*(x*w-y)\n",
        "  "
      ],
      "metadata": {
        "id": "VEzxlaLaNswa"
      },
      "execution_count": 11,
      "outputs": []
    },
    {
      "cell_type": "code",
      "source": [
        "for epoch in range(100):\n",
        "  for x_val,y_val in zip(x_data,y_data):\n",
        "    grad=gradient(x_val,y_val)\n",
        "    w=w-0.01*grad\n",
        "    print(\"\\tgrad: \",x_val,y_val,grad)\n",
        "    l=loss(x_val,y_val)\n",
        "  print(\"progrss:\",epoch,\"w=\",w,\"loss=\",l)\n",
        "\n",
        "print(\"predict (after training)\",\"4 hours\",forward(4))"
      ],
      "metadata": {
        "colab": {
          "base_uri": "https://localhost:8080/"
        },
        "id": "29PGnJGoQsTd",
        "outputId": "4461f5e8-d16c-4b48-9546-e34632ad6c09"
      },
      "execution_count": 14,
      "outputs": [
        {
          "output_type": "stream",
          "name": "stdout",
          "text": [
            "\tgrad:  1 2 2.6645352591003757e-15\n",
            "\tgrad:  2 4 1.0658141036401503e-14\n",
            "\tgrad:  3 6 2.1316282072803006e-14\n",
            "progrss: 0 w= 2.0000000000000013 loss= 1.262177448353619e-29\n",
            "\tgrad:  1 2 2.6645352591003757e-15\n",
            "\tgrad:  2 4 1.0658141036401503e-14\n",
            "\tgrad:  3 6 2.1316282072803006e-14\n",
            "progrss: 1 w= 2.0000000000000013 loss= 1.262177448353619e-29\n",
            "\tgrad:  1 2 2.6645352591003757e-15\n",
            "\tgrad:  2 4 1.0658141036401503e-14\n",
            "\tgrad:  3 6 2.1316282072803006e-14\n",
            "progrss: 2 w= 2.0000000000000013 loss= 1.262177448353619e-29\n",
            "\tgrad:  1 2 2.6645352591003757e-15\n",
            "\tgrad:  2 4 1.0658141036401503e-14\n",
            "\tgrad:  3 6 2.1316282072803006e-14\n",
            "progrss: 3 w= 2.0000000000000013 loss= 1.262177448353619e-29\n",
            "\tgrad:  1 2 2.6645352591003757e-15\n",
            "\tgrad:  2 4 1.0658141036401503e-14\n",
            "\tgrad:  3 6 2.1316282072803006e-14\n",
            "progrss: 4 w= 2.0000000000000013 loss= 1.262177448353619e-29\n",
            "\tgrad:  1 2 2.6645352591003757e-15\n",
            "\tgrad:  2 4 1.0658141036401503e-14\n",
            "\tgrad:  3 6 2.1316282072803006e-14\n",
            "progrss: 5 w= 2.0000000000000013 loss= 1.262177448353619e-29\n",
            "\tgrad:  1 2 2.6645352591003757e-15\n",
            "\tgrad:  2 4 1.0658141036401503e-14\n",
            "\tgrad:  3 6 2.1316282072803006e-14\n",
            "progrss: 6 w= 2.0000000000000013 loss= 1.262177448353619e-29\n",
            "\tgrad:  1 2 2.6645352591003757e-15\n",
            "\tgrad:  2 4 1.0658141036401503e-14\n",
            "\tgrad:  3 6 2.1316282072803006e-14\n",
            "progrss: 7 w= 2.0000000000000013 loss= 1.262177448353619e-29\n",
            "\tgrad:  1 2 2.6645352591003757e-15\n",
            "\tgrad:  2 4 1.0658141036401503e-14\n",
            "\tgrad:  3 6 2.1316282072803006e-14\n",
            "progrss: 8 w= 2.0000000000000013 loss= 1.262177448353619e-29\n",
            "\tgrad:  1 2 2.6645352591003757e-15\n",
            "\tgrad:  2 4 1.0658141036401503e-14\n",
            "\tgrad:  3 6 2.1316282072803006e-14\n",
            "progrss: 9 w= 2.0000000000000013 loss= 1.262177448353619e-29\n",
            "\tgrad:  1 2 2.6645352591003757e-15\n",
            "\tgrad:  2 4 1.0658141036401503e-14\n",
            "\tgrad:  3 6 2.1316282072803006e-14\n",
            "progrss: 10 w= 2.0000000000000013 loss= 1.262177448353619e-29\n",
            "\tgrad:  1 2 2.6645352591003757e-15\n",
            "\tgrad:  2 4 1.0658141036401503e-14\n",
            "\tgrad:  3 6 2.1316282072803006e-14\n",
            "progrss: 11 w= 2.0000000000000013 loss= 1.262177448353619e-29\n",
            "\tgrad:  1 2 2.6645352591003757e-15\n",
            "\tgrad:  2 4 1.0658141036401503e-14\n",
            "\tgrad:  3 6 2.1316282072803006e-14\n",
            "progrss: 12 w= 2.0000000000000013 loss= 1.262177448353619e-29\n",
            "\tgrad:  1 2 2.6645352591003757e-15\n",
            "\tgrad:  2 4 1.0658141036401503e-14\n",
            "\tgrad:  3 6 2.1316282072803006e-14\n",
            "progrss: 13 w= 2.0000000000000013 loss= 1.262177448353619e-29\n",
            "\tgrad:  1 2 2.6645352591003757e-15\n",
            "\tgrad:  2 4 1.0658141036401503e-14\n",
            "\tgrad:  3 6 2.1316282072803006e-14\n",
            "progrss: 14 w= 2.0000000000000013 loss= 1.262177448353619e-29\n",
            "\tgrad:  1 2 2.6645352591003757e-15\n",
            "\tgrad:  2 4 1.0658141036401503e-14\n",
            "\tgrad:  3 6 2.1316282072803006e-14\n",
            "progrss: 15 w= 2.0000000000000013 loss= 1.262177448353619e-29\n",
            "\tgrad:  1 2 2.6645352591003757e-15\n",
            "\tgrad:  2 4 1.0658141036401503e-14\n",
            "\tgrad:  3 6 2.1316282072803006e-14\n",
            "progrss: 16 w= 2.0000000000000013 loss= 1.262177448353619e-29\n",
            "\tgrad:  1 2 2.6645352591003757e-15\n",
            "\tgrad:  2 4 1.0658141036401503e-14\n",
            "\tgrad:  3 6 2.1316282072803006e-14\n",
            "progrss: 17 w= 2.0000000000000013 loss= 1.262177448353619e-29\n",
            "\tgrad:  1 2 2.6645352591003757e-15\n",
            "\tgrad:  2 4 1.0658141036401503e-14\n",
            "\tgrad:  3 6 2.1316282072803006e-14\n",
            "progrss: 18 w= 2.0000000000000013 loss= 1.262177448353619e-29\n",
            "\tgrad:  1 2 2.6645352591003757e-15\n",
            "\tgrad:  2 4 1.0658141036401503e-14\n",
            "\tgrad:  3 6 2.1316282072803006e-14\n",
            "progrss: 19 w= 2.0000000000000013 loss= 1.262177448353619e-29\n",
            "\tgrad:  1 2 2.6645352591003757e-15\n",
            "\tgrad:  2 4 1.0658141036401503e-14\n",
            "\tgrad:  3 6 2.1316282072803006e-14\n",
            "progrss: 20 w= 2.0000000000000013 loss= 1.262177448353619e-29\n",
            "\tgrad:  1 2 2.6645352591003757e-15\n",
            "\tgrad:  2 4 1.0658141036401503e-14\n",
            "\tgrad:  3 6 2.1316282072803006e-14\n",
            "progrss: 21 w= 2.0000000000000013 loss= 1.262177448353619e-29\n",
            "\tgrad:  1 2 2.6645352591003757e-15\n",
            "\tgrad:  2 4 1.0658141036401503e-14\n",
            "\tgrad:  3 6 2.1316282072803006e-14\n",
            "progrss: 22 w= 2.0000000000000013 loss= 1.262177448353619e-29\n",
            "\tgrad:  1 2 2.6645352591003757e-15\n",
            "\tgrad:  2 4 1.0658141036401503e-14\n",
            "\tgrad:  3 6 2.1316282072803006e-14\n",
            "progrss: 23 w= 2.0000000000000013 loss= 1.262177448353619e-29\n",
            "\tgrad:  1 2 2.6645352591003757e-15\n",
            "\tgrad:  2 4 1.0658141036401503e-14\n",
            "\tgrad:  3 6 2.1316282072803006e-14\n",
            "progrss: 24 w= 2.0000000000000013 loss= 1.262177448353619e-29\n",
            "\tgrad:  1 2 2.6645352591003757e-15\n",
            "\tgrad:  2 4 1.0658141036401503e-14\n",
            "\tgrad:  3 6 2.1316282072803006e-14\n",
            "progrss: 25 w= 2.0000000000000013 loss= 1.262177448353619e-29\n",
            "\tgrad:  1 2 2.6645352591003757e-15\n",
            "\tgrad:  2 4 1.0658141036401503e-14\n",
            "\tgrad:  3 6 2.1316282072803006e-14\n",
            "progrss: 26 w= 2.0000000000000013 loss= 1.262177448353619e-29\n",
            "\tgrad:  1 2 2.6645352591003757e-15\n",
            "\tgrad:  2 4 1.0658141036401503e-14\n",
            "\tgrad:  3 6 2.1316282072803006e-14\n",
            "progrss: 27 w= 2.0000000000000013 loss= 1.262177448353619e-29\n",
            "\tgrad:  1 2 2.6645352591003757e-15\n",
            "\tgrad:  2 4 1.0658141036401503e-14\n",
            "\tgrad:  3 6 2.1316282072803006e-14\n",
            "progrss: 28 w= 2.0000000000000013 loss= 1.262177448353619e-29\n",
            "\tgrad:  1 2 2.6645352591003757e-15\n",
            "\tgrad:  2 4 1.0658141036401503e-14\n",
            "\tgrad:  3 6 2.1316282072803006e-14\n",
            "progrss: 29 w= 2.0000000000000013 loss= 1.262177448353619e-29\n",
            "\tgrad:  1 2 2.6645352591003757e-15\n",
            "\tgrad:  2 4 1.0658141036401503e-14\n",
            "\tgrad:  3 6 2.1316282072803006e-14\n",
            "progrss: 30 w= 2.0000000000000013 loss= 1.262177448353619e-29\n",
            "\tgrad:  1 2 2.6645352591003757e-15\n",
            "\tgrad:  2 4 1.0658141036401503e-14\n",
            "\tgrad:  3 6 2.1316282072803006e-14\n",
            "progrss: 31 w= 2.0000000000000013 loss= 1.262177448353619e-29\n",
            "\tgrad:  1 2 2.6645352591003757e-15\n",
            "\tgrad:  2 4 1.0658141036401503e-14\n",
            "\tgrad:  3 6 2.1316282072803006e-14\n",
            "progrss: 32 w= 2.0000000000000013 loss= 1.262177448353619e-29\n",
            "\tgrad:  1 2 2.6645352591003757e-15\n",
            "\tgrad:  2 4 1.0658141036401503e-14\n",
            "\tgrad:  3 6 2.1316282072803006e-14\n",
            "progrss: 33 w= 2.0000000000000013 loss= 1.262177448353619e-29\n",
            "\tgrad:  1 2 2.6645352591003757e-15\n",
            "\tgrad:  2 4 1.0658141036401503e-14\n",
            "\tgrad:  3 6 2.1316282072803006e-14\n",
            "progrss: 34 w= 2.0000000000000013 loss= 1.262177448353619e-29\n",
            "\tgrad:  1 2 2.6645352591003757e-15\n",
            "\tgrad:  2 4 1.0658141036401503e-14\n",
            "\tgrad:  3 6 2.1316282072803006e-14\n",
            "progrss: 35 w= 2.0000000000000013 loss= 1.262177448353619e-29\n",
            "\tgrad:  1 2 2.6645352591003757e-15\n",
            "\tgrad:  2 4 1.0658141036401503e-14\n",
            "\tgrad:  3 6 2.1316282072803006e-14\n",
            "progrss: 36 w= 2.0000000000000013 loss= 1.262177448353619e-29\n",
            "\tgrad:  1 2 2.6645352591003757e-15\n",
            "\tgrad:  2 4 1.0658141036401503e-14\n",
            "\tgrad:  3 6 2.1316282072803006e-14\n",
            "progrss: 37 w= 2.0000000000000013 loss= 1.262177448353619e-29\n",
            "\tgrad:  1 2 2.6645352591003757e-15\n",
            "\tgrad:  2 4 1.0658141036401503e-14\n",
            "\tgrad:  3 6 2.1316282072803006e-14\n",
            "progrss: 38 w= 2.0000000000000013 loss= 1.262177448353619e-29\n",
            "\tgrad:  1 2 2.6645352591003757e-15\n",
            "\tgrad:  2 4 1.0658141036401503e-14\n",
            "\tgrad:  3 6 2.1316282072803006e-14\n",
            "progrss: 39 w= 2.0000000000000013 loss= 1.262177448353619e-29\n",
            "\tgrad:  1 2 2.6645352591003757e-15\n",
            "\tgrad:  2 4 1.0658141036401503e-14\n",
            "\tgrad:  3 6 2.1316282072803006e-14\n",
            "progrss: 40 w= 2.0000000000000013 loss= 1.262177448353619e-29\n",
            "\tgrad:  1 2 2.6645352591003757e-15\n",
            "\tgrad:  2 4 1.0658141036401503e-14\n",
            "\tgrad:  3 6 2.1316282072803006e-14\n",
            "progrss: 41 w= 2.0000000000000013 loss= 1.262177448353619e-29\n",
            "\tgrad:  1 2 2.6645352591003757e-15\n",
            "\tgrad:  2 4 1.0658141036401503e-14\n",
            "\tgrad:  3 6 2.1316282072803006e-14\n",
            "progrss: 42 w= 2.0000000000000013 loss= 1.262177448353619e-29\n",
            "\tgrad:  1 2 2.6645352591003757e-15\n",
            "\tgrad:  2 4 1.0658141036401503e-14\n",
            "\tgrad:  3 6 2.1316282072803006e-14\n",
            "progrss: 43 w= 2.0000000000000013 loss= 1.262177448353619e-29\n",
            "\tgrad:  1 2 2.6645352591003757e-15\n",
            "\tgrad:  2 4 1.0658141036401503e-14\n",
            "\tgrad:  3 6 2.1316282072803006e-14\n",
            "progrss: 44 w= 2.0000000000000013 loss= 1.262177448353619e-29\n",
            "\tgrad:  1 2 2.6645352591003757e-15\n",
            "\tgrad:  2 4 1.0658141036401503e-14\n",
            "\tgrad:  3 6 2.1316282072803006e-14\n",
            "progrss: 45 w= 2.0000000000000013 loss= 1.262177448353619e-29\n",
            "\tgrad:  1 2 2.6645352591003757e-15\n",
            "\tgrad:  2 4 1.0658141036401503e-14\n",
            "\tgrad:  3 6 2.1316282072803006e-14\n",
            "progrss: 46 w= 2.0000000000000013 loss= 1.262177448353619e-29\n",
            "\tgrad:  1 2 2.6645352591003757e-15\n",
            "\tgrad:  2 4 1.0658141036401503e-14\n",
            "\tgrad:  3 6 2.1316282072803006e-14\n",
            "progrss: 47 w= 2.0000000000000013 loss= 1.262177448353619e-29\n",
            "\tgrad:  1 2 2.6645352591003757e-15\n",
            "\tgrad:  2 4 1.0658141036401503e-14\n",
            "\tgrad:  3 6 2.1316282072803006e-14\n",
            "progrss: 48 w= 2.0000000000000013 loss= 1.262177448353619e-29\n",
            "\tgrad:  1 2 2.6645352591003757e-15\n",
            "\tgrad:  2 4 1.0658141036401503e-14\n",
            "\tgrad:  3 6 2.1316282072803006e-14\n",
            "progrss: 49 w= 2.0000000000000013 loss= 1.262177448353619e-29\n",
            "\tgrad:  1 2 2.6645352591003757e-15\n",
            "\tgrad:  2 4 1.0658141036401503e-14\n",
            "\tgrad:  3 6 2.1316282072803006e-14\n",
            "progrss: 50 w= 2.0000000000000013 loss= 1.262177448353619e-29\n",
            "\tgrad:  1 2 2.6645352591003757e-15\n",
            "\tgrad:  2 4 1.0658141036401503e-14\n",
            "\tgrad:  3 6 2.1316282072803006e-14\n",
            "progrss: 51 w= 2.0000000000000013 loss= 1.262177448353619e-29\n",
            "\tgrad:  1 2 2.6645352591003757e-15\n",
            "\tgrad:  2 4 1.0658141036401503e-14\n",
            "\tgrad:  3 6 2.1316282072803006e-14\n",
            "progrss: 52 w= 2.0000000000000013 loss= 1.262177448353619e-29\n",
            "\tgrad:  1 2 2.6645352591003757e-15\n",
            "\tgrad:  2 4 1.0658141036401503e-14\n",
            "\tgrad:  3 6 2.1316282072803006e-14\n",
            "progrss: 53 w= 2.0000000000000013 loss= 1.262177448353619e-29\n",
            "\tgrad:  1 2 2.6645352591003757e-15\n",
            "\tgrad:  2 4 1.0658141036401503e-14\n",
            "\tgrad:  3 6 2.1316282072803006e-14\n",
            "progrss: 54 w= 2.0000000000000013 loss= 1.262177448353619e-29\n",
            "\tgrad:  1 2 2.6645352591003757e-15\n",
            "\tgrad:  2 4 1.0658141036401503e-14\n",
            "\tgrad:  3 6 2.1316282072803006e-14\n",
            "progrss: 55 w= 2.0000000000000013 loss= 1.262177448353619e-29\n",
            "\tgrad:  1 2 2.6645352591003757e-15\n",
            "\tgrad:  2 4 1.0658141036401503e-14\n",
            "\tgrad:  3 6 2.1316282072803006e-14\n",
            "progrss: 56 w= 2.0000000000000013 loss= 1.262177448353619e-29\n",
            "\tgrad:  1 2 2.6645352591003757e-15\n",
            "\tgrad:  2 4 1.0658141036401503e-14\n",
            "\tgrad:  3 6 2.1316282072803006e-14\n",
            "progrss: 57 w= 2.0000000000000013 loss= 1.262177448353619e-29\n",
            "\tgrad:  1 2 2.6645352591003757e-15\n",
            "\tgrad:  2 4 1.0658141036401503e-14\n",
            "\tgrad:  3 6 2.1316282072803006e-14\n",
            "progrss: 58 w= 2.0000000000000013 loss= 1.262177448353619e-29\n",
            "\tgrad:  1 2 2.6645352591003757e-15\n",
            "\tgrad:  2 4 1.0658141036401503e-14\n",
            "\tgrad:  3 6 2.1316282072803006e-14\n",
            "progrss: 59 w= 2.0000000000000013 loss= 1.262177448353619e-29\n",
            "\tgrad:  1 2 2.6645352591003757e-15\n",
            "\tgrad:  2 4 1.0658141036401503e-14\n",
            "\tgrad:  3 6 2.1316282072803006e-14\n",
            "progrss: 60 w= 2.0000000000000013 loss= 1.262177448353619e-29\n",
            "\tgrad:  1 2 2.6645352591003757e-15\n",
            "\tgrad:  2 4 1.0658141036401503e-14\n",
            "\tgrad:  3 6 2.1316282072803006e-14\n",
            "progrss: 61 w= 2.0000000000000013 loss= 1.262177448353619e-29\n",
            "\tgrad:  1 2 2.6645352591003757e-15\n",
            "\tgrad:  2 4 1.0658141036401503e-14\n",
            "\tgrad:  3 6 2.1316282072803006e-14\n",
            "progrss: 62 w= 2.0000000000000013 loss= 1.262177448353619e-29\n",
            "\tgrad:  1 2 2.6645352591003757e-15\n",
            "\tgrad:  2 4 1.0658141036401503e-14\n",
            "\tgrad:  3 6 2.1316282072803006e-14\n",
            "progrss: 63 w= 2.0000000000000013 loss= 1.262177448353619e-29\n",
            "\tgrad:  1 2 2.6645352591003757e-15\n",
            "\tgrad:  2 4 1.0658141036401503e-14\n",
            "\tgrad:  3 6 2.1316282072803006e-14\n",
            "progrss: 64 w= 2.0000000000000013 loss= 1.262177448353619e-29\n",
            "\tgrad:  1 2 2.6645352591003757e-15\n",
            "\tgrad:  2 4 1.0658141036401503e-14\n",
            "\tgrad:  3 6 2.1316282072803006e-14\n",
            "progrss: 65 w= 2.0000000000000013 loss= 1.262177448353619e-29\n",
            "\tgrad:  1 2 2.6645352591003757e-15\n",
            "\tgrad:  2 4 1.0658141036401503e-14\n",
            "\tgrad:  3 6 2.1316282072803006e-14\n",
            "progrss: 66 w= 2.0000000000000013 loss= 1.262177448353619e-29\n",
            "\tgrad:  1 2 2.6645352591003757e-15\n",
            "\tgrad:  2 4 1.0658141036401503e-14\n",
            "\tgrad:  3 6 2.1316282072803006e-14\n",
            "progrss: 67 w= 2.0000000000000013 loss= 1.262177448353619e-29\n",
            "\tgrad:  1 2 2.6645352591003757e-15\n",
            "\tgrad:  2 4 1.0658141036401503e-14\n",
            "\tgrad:  3 6 2.1316282072803006e-14\n",
            "progrss: 68 w= 2.0000000000000013 loss= 1.262177448353619e-29\n",
            "\tgrad:  1 2 2.6645352591003757e-15\n",
            "\tgrad:  2 4 1.0658141036401503e-14\n",
            "\tgrad:  3 6 2.1316282072803006e-14\n",
            "progrss: 69 w= 2.0000000000000013 loss= 1.262177448353619e-29\n",
            "\tgrad:  1 2 2.6645352591003757e-15\n",
            "\tgrad:  2 4 1.0658141036401503e-14\n",
            "\tgrad:  3 6 2.1316282072803006e-14\n",
            "progrss: 70 w= 2.0000000000000013 loss= 1.262177448353619e-29\n",
            "\tgrad:  1 2 2.6645352591003757e-15\n",
            "\tgrad:  2 4 1.0658141036401503e-14\n",
            "\tgrad:  3 6 2.1316282072803006e-14\n",
            "progrss: 71 w= 2.0000000000000013 loss= 1.262177448353619e-29\n",
            "\tgrad:  1 2 2.6645352591003757e-15\n",
            "\tgrad:  2 4 1.0658141036401503e-14\n",
            "\tgrad:  3 6 2.1316282072803006e-14\n",
            "progrss: 72 w= 2.0000000000000013 loss= 1.262177448353619e-29\n",
            "\tgrad:  1 2 2.6645352591003757e-15\n",
            "\tgrad:  2 4 1.0658141036401503e-14\n",
            "\tgrad:  3 6 2.1316282072803006e-14\n",
            "progrss: 73 w= 2.0000000000000013 loss= 1.262177448353619e-29\n",
            "\tgrad:  1 2 2.6645352591003757e-15\n",
            "\tgrad:  2 4 1.0658141036401503e-14\n",
            "\tgrad:  3 6 2.1316282072803006e-14\n",
            "progrss: 74 w= 2.0000000000000013 loss= 1.262177448353619e-29\n",
            "\tgrad:  1 2 2.6645352591003757e-15\n",
            "\tgrad:  2 4 1.0658141036401503e-14\n",
            "\tgrad:  3 6 2.1316282072803006e-14\n",
            "progrss: 75 w= 2.0000000000000013 loss= 1.262177448353619e-29\n",
            "\tgrad:  1 2 2.6645352591003757e-15\n",
            "\tgrad:  2 4 1.0658141036401503e-14\n",
            "\tgrad:  3 6 2.1316282072803006e-14\n",
            "progrss: 76 w= 2.0000000000000013 loss= 1.262177448353619e-29\n",
            "\tgrad:  1 2 2.6645352591003757e-15\n",
            "\tgrad:  2 4 1.0658141036401503e-14\n",
            "\tgrad:  3 6 2.1316282072803006e-14\n",
            "progrss: 77 w= 2.0000000000000013 loss= 1.262177448353619e-29\n",
            "\tgrad:  1 2 2.6645352591003757e-15\n",
            "\tgrad:  2 4 1.0658141036401503e-14\n",
            "\tgrad:  3 6 2.1316282072803006e-14\n",
            "progrss: 78 w= 2.0000000000000013 loss= 1.262177448353619e-29\n",
            "\tgrad:  1 2 2.6645352591003757e-15\n",
            "\tgrad:  2 4 1.0658141036401503e-14\n",
            "\tgrad:  3 6 2.1316282072803006e-14\n",
            "progrss: 79 w= 2.0000000000000013 loss= 1.262177448353619e-29\n",
            "\tgrad:  1 2 2.6645352591003757e-15\n",
            "\tgrad:  2 4 1.0658141036401503e-14\n",
            "\tgrad:  3 6 2.1316282072803006e-14\n",
            "progrss: 80 w= 2.0000000000000013 loss= 1.262177448353619e-29\n",
            "\tgrad:  1 2 2.6645352591003757e-15\n",
            "\tgrad:  2 4 1.0658141036401503e-14\n",
            "\tgrad:  3 6 2.1316282072803006e-14\n",
            "progrss: 81 w= 2.0000000000000013 loss= 1.262177448353619e-29\n",
            "\tgrad:  1 2 2.6645352591003757e-15\n",
            "\tgrad:  2 4 1.0658141036401503e-14\n",
            "\tgrad:  3 6 2.1316282072803006e-14\n",
            "progrss: 82 w= 2.0000000000000013 loss= 1.262177448353619e-29\n",
            "\tgrad:  1 2 2.6645352591003757e-15\n",
            "\tgrad:  2 4 1.0658141036401503e-14\n",
            "\tgrad:  3 6 2.1316282072803006e-14\n",
            "progrss: 83 w= 2.0000000000000013 loss= 1.262177448353619e-29\n",
            "\tgrad:  1 2 2.6645352591003757e-15\n",
            "\tgrad:  2 4 1.0658141036401503e-14\n",
            "\tgrad:  3 6 2.1316282072803006e-14\n",
            "progrss: 84 w= 2.0000000000000013 loss= 1.262177448353619e-29\n",
            "\tgrad:  1 2 2.6645352591003757e-15\n",
            "\tgrad:  2 4 1.0658141036401503e-14\n",
            "\tgrad:  3 6 2.1316282072803006e-14\n",
            "progrss: 85 w= 2.0000000000000013 loss= 1.262177448353619e-29\n",
            "\tgrad:  1 2 2.6645352591003757e-15\n",
            "\tgrad:  2 4 1.0658141036401503e-14\n",
            "\tgrad:  3 6 2.1316282072803006e-14\n",
            "progrss: 86 w= 2.0000000000000013 loss= 1.262177448353619e-29\n",
            "\tgrad:  1 2 2.6645352591003757e-15\n",
            "\tgrad:  2 4 1.0658141036401503e-14\n",
            "\tgrad:  3 6 2.1316282072803006e-14\n",
            "progrss: 87 w= 2.0000000000000013 loss= 1.262177448353619e-29\n",
            "\tgrad:  1 2 2.6645352591003757e-15\n",
            "\tgrad:  2 4 1.0658141036401503e-14\n",
            "\tgrad:  3 6 2.1316282072803006e-14\n",
            "progrss: 88 w= 2.0000000000000013 loss= 1.262177448353619e-29\n",
            "\tgrad:  1 2 2.6645352591003757e-15\n",
            "\tgrad:  2 4 1.0658141036401503e-14\n",
            "\tgrad:  3 6 2.1316282072803006e-14\n",
            "progrss: 89 w= 2.0000000000000013 loss= 1.262177448353619e-29\n",
            "\tgrad:  1 2 2.6645352591003757e-15\n",
            "\tgrad:  2 4 1.0658141036401503e-14\n",
            "\tgrad:  3 6 2.1316282072803006e-14\n",
            "progrss: 90 w= 2.0000000000000013 loss= 1.262177448353619e-29\n",
            "\tgrad:  1 2 2.6645352591003757e-15\n",
            "\tgrad:  2 4 1.0658141036401503e-14\n",
            "\tgrad:  3 6 2.1316282072803006e-14\n",
            "progrss: 91 w= 2.0000000000000013 loss= 1.262177448353619e-29\n",
            "\tgrad:  1 2 2.6645352591003757e-15\n",
            "\tgrad:  2 4 1.0658141036401503e-14\n",
            "\tgrad:  3 6 2.1316282072803006e-14\n",
            "progrss: 92 w= 2.0000000000000013 loss= 1.262177448353619e-29\n",
            "\tgrad:  1 2 2.6645352591003757e-15\n",
            "\tgrad:  2 4 1.0658141036401503e-14\n",
            "\tgrad:  3 6 2.1316282072803006e-14\n",
            "progrss: 93 w= 2.0000000000000013 loss= 1.262177448353619e-29\n",
            "\tgrad:  1 2 2.6645352591003757e-15\n",
            "\tgrad:  2 4 1.0658141036401503e-14\n",
            "\tgrad:  3 6 2.1316282072803006e-14\n",
            "progrss: 94 w= 2.0000000000000013 loss= 1.262177448353619e-29\n",
            "\tgrad:  1 2 2.6645352591003757e-15\n",
            "\tgrad:  2 4 1.0658141036401503e-14\n",
            "\tgrad:  3 6 2.1316282072803006e-14\n",
            "progrss: 95 w= 2.0000000000000013 loss= 1.262177448353619e-29\n",
            "\tgrad:  1 2 2.6645352591003757e-15\n",
            "\tgrad:  2 4 1.0658141036401503e-14\n",
            "\tgrad:  3 6 2.1316282072803006e-14\n",
            "progrss: 96 w= 2.0000000000000013 loss= 1.262177448353619e-29\n",
            "\tgrad:  1 2 2.6645352591003757e-15\n",
            "\tgrad:  2 4 1.0658141036401503e-14\n",
            "\tgrad:  3 6 2.1316282072803006e-14\n",
            "progrss: 97 w= 2.0000000000000013 loss= 1.262177448353619e-29\n",
            "\tgrad:  1 2 2.6645352591003757e-15\n",
            "\tgrad:  2 4 1.0658141036401503e-14\n",
            "\tgrad:  3 6 2.1316282072803006e-14\n",
            "progrss: 98 w= 2.0000000000000013 loss= 1.262177448353619e-29\n",
            "\tgrad:  1 2 2.6645352591003757e-15\n",
            "\tgrad:  2 4 1.0658141036401503e-14\n",
            "\tgrad:  3 6 2.1316282072803006e-14\n",
            "progrss: 99 w= 2.0000000000000013 loss= 1.262177448353619e-29\n",
            "predict (after training) 4 hours 8.000000000000005\n"
          ]
        }
      ]
    },
    {
      "cell_type": "code",
      "source": [],
      "metadata": {
        "id": "3z61tDimRZ7q"
      },
      "execution_count": null,
      "outputs": []
    }
  ]
}